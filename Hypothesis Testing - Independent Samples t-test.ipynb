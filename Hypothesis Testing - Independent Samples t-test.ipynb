{
 "cells": [
  {
   "cell_type": "markdown",
   "id": "f10be3b9",
   "metadata": {},
   "source": [
    "### Problem: Does screen time vary between users of Android and iPhone smartphones?"
   ]
  },
  {
   "cell_type": "markdown",
   "id": "efbdb44f",
   "metadata": {},
   "source": [
    "Ho: There is no significant difference in the average phone screen time for Android and iPhone users.\n",
    "\n",
    "Ha: There is a significant difference in the average phone screen time between Android and iPhone users."
   ]
  },
  {
   "cell_type": "code",
   "execution_count": 1,
   "id": "990bcf0e",
   "metadata": {},
   "outputs": [],
   "source": [
    "# Import the necessary libraries\n",
    "\n",
    "import pandas as pd\n",
    "import numpy as np\n",
    "import matplotlib.pyplot as plt\n",
    "import seaborn as sns\n",
    "\n",
    "import statistics\n",
    "import scipy.stats as stats\n",
    "from statsmodels.stats.weightstats import ttest_ind\n",
    "import pingouin as pg\n"
   ]
  },
  {
   "cell_type": "code",
   "execution_count": 2,
   "id": "fd618f37",
   "metadata": {},
   "outputs": [
    {
     "data": {
      "text/html": [
       "<div>\n",
       "<style scoped>\n",
       "    .dataframe tbody tr th:only-of-type {\n",
       "        vertical-align: middle;\n",
       "    }\n",
       "\n",
       "    .dataframe tbody tr th {\n",
       "        vertical-align: top;\n",
       "    }\n",
       "\n",
       "    .dataframe thead th {\n",
       "        text-align: right;\n",
       "    }\n",
       "</style>\n",
       "<table border=\"1\" class=\"dataframe\">\n",
       "  <thead>\n",
       "    <tr style=\"text-align: right;\">\n",
       "      <th></th>\n",
       "      <th>ID</th>\n",
       "      <th>Gender</th>\n",
       "      <th>Classification</th>\n",
       "      <th>Height</th>\n",
       "      <th>Shoe Size</th>\n",
       "      <th>Phone Time</th>\n",
       "      <th># of Shoes</th>\n",
       "      <th>Birth order</th>\n",
       "      <th>Pets</th>\n",
       "      <th>Happy</th>\n",
       "      <th>Funny</th>\n",
       "      <th>College</th>\n",
       "      <th>Bfast Calories</th>\n",
       "      <th>Exercise</th>\n",
       "      <th>Stat Pre</th>\n",
       "      <th>Stat Post</th>\n",
       "      <th>Phone Type</th>\n",
       "      <th>Sleep</th>\n",
       "      <th>Social Media</th>\n",
       "      <th>Impact of SocNetworking</th>\n",
       "      <th>Political</th>\n",
       "      <th>Animal</th>\n",
       "      <th>Superhero</th>\n",
       "    </tr>\n",
       "  </thead>\n",
       "  <tbody>\n",
       "    <tr>\n",
       "      <th>0</th>\n",
       "      <td>1</td>\n",
       "      <td>male</td>\n",
       "      <td>senior</td>\n",
       "      <td>67.75</td>\n",
       "      <td>7.0</td>\n",
       "      <td>12.0</td>\n",
       "      <td>12.0</td>\n",
       "      <td>youngest</td>\n",
       "      <td>5.0</td>\n",
       "      <td>0.80</td>\n",
       "      <td>7.0</td>\n",
       "      <td>Natural Sciences</td>\n",
       "      <td>500.0</td>\n",
       "      <td>360</td>\n",
       "      <td>3.0</td>\n",
       "      <td>NaN</td>\n",
       "      <td>iPhone</td>\n",
       "      <td>7.0</td>\n",
       "      <td>180.0</td>\n",
       "      <td>worse</td>\n",
       "      <td>Democrat</td>\n",
       "      <td>Dog person</td>\n",
       "      <td>Batman</td>\n",
       "    </tr>\n",
       "    <tr>\n",
       "      <th>1</th>\n",
       "      <td>2</td>\n",
       "      <td>male</td>\n",
       "      <td>freshman</td>\n",
       "      <td>71.00</td>\n",
       "      <td>7.5</td>\n",
       "      <td>1.5</td>\n",
       "      <td>5.0</td>\n",
       "      <td>middle</td>\n",
       "      <td>4.0</td>\n",
       "      <td>0.75</td>\n",
       "      <td>8.0</td>\n",
       "      <td>Natural Sciences</td>\n",
       "      <td>0.0</td>\n",
       "      <td>200</td>\n",
       "      <td>9.0</td>\n",
       "      <td>NaN</td>\n",
       "      <td>Android smartphone</td>\n",
       "      <td>7.0</td>\n",
       "      <td>20.0</td>\n",
       "      <td>better</td>\n",
       "      <td>Democrat</td>\n",
       "      <td>Dog person</td>\n",
       "      <td>Batman</td>\n",
       "    </tr>\n",
       "    <tr>\n",
       "      <th>2</th>\n",
       "      <td>3</td>\n",
       "      <td>female</td>\n",
       "      <td>freshman</td>\n",
       "      <td>64.00</td>\n",
       "      <td>6.0</td>\n",
       "      <td>25.0</td>\n",
       "      <td>15.0</td>\n",
       "      <td>oldest</td>\n",
       "      <td>8.0</td>\n",
       "      <td>0.90</td>\n",
       "      <td>6.0</td>\n",
       "      <td>Natural Sciences</td>\n",
       "      <td>200.0</td>\n",
       "      <td>30</td>\n",
       "      <td>7.0</td>\n",
       "      <td>5.0</td>\n",
       "      <td>Android smartphone</td>\n",
       "      <td>8.0</td>\n",
       "      <td>60.0</td>\n",
       "      <td>better</td>\n",
       "      <td>Republican</td>\n",
       "      <td>Dog person</td>\n",
       "      <td>Batman</td>\n",
       "    </tr>\n",
       "    <tr>\n",
       "      <th>3</th>\n",
       "      <td>4</td>\n",
       "      <td>female</td>\n",
       "      <td>freshman</td>\n",
       "      <td>63.00</td>\n",
       "      <td>6.5</td>\n",
       "      <td>30.0</td>\n",
       "      <td>30.0</td>\n",
       "      <td>middle</td>\n",
       "      <td>12.0</td>\n",
       "      <td>0.98</td>\n",
       "      <td>9.0</td>\n",
       "      <td>Education</td>\n",
       "      <td>200.0</td>\n",
       "      <td>180</td>\n",
       "      <td>6.0</td>\n",
       "      <td>7.0</td>\n",
       "      <td>iPhone</td>\n",
       "      <td>6.0</td>\n",
       "      <td>60.0</td>\n",
       "      <td>better</td>\n",
       "      <td>Republican</td>\n",
       "      <td>Both</td>\n",
       "      <td>Superman</td>\n",
       "    </tr>\n",
       "    <tr>\n",
       "      <th>4</th>\n",
       "      <td>5</td>\n",
       "      <td>male</td>\n",
       "      <td>senior</td>\n",
       "      <td>69.00</td>\n",
       "      <td>6.5</td>\n",
       "      <td>23.0</td>\n",
       "      <td>8.0</td>\n",
       "      <td>oldest</td>\n",
       "      <td>4.0</td>\n",
       "      <td>0.75</td>\n",
       "      <td>6.0</td>\n",
       "      <td>Natural Sciences</td>\n",
       "      <td>0.0</td>\n",
       "      <td>180</td>\n",
       "      <td>4.0</td>\n",
       "      <td>7.0</td>\n",
       "      <td>iPhone</td>\n",
       "      <td>5.5</td>\n",
       "      <td>60.0</td>\n",
       "      <td>worse</td>\n",
       "      <td>Independent</td>\n",
       "      <td>Dog person</td>\n",
       "      <td>Superman</td>\n",
       "    </tr>\n",
       "    <tr>\n",
       "      <th>...</th>\n",
       "      <td>...</td>\n",
       "      <td>...</td>\n",
       "      <td>...</td>\n",
       "      <td>...</td>\n",
       "      <td>...</td>\n",
       "      <td>...</td>\n",
       "      <td>...</td>\n",
       "      <td>...</td>\n",
       "      <td>...</td>\n",
       "      <td>...</td>\n",
       "      <td>...</td>\n",
       "      <td>...</td>\n",
       "      <td>...</td>\n",
       "      <td>...</td>\n",
       "      <td>...</td>\n",
       "      <td>...</td>\n",
       "      <td>...</td>\n",
       "      <td>...</td>\n",
       "      <td>...</td>\n",
       "      <td>...</td>\n",
       "      <td>...</td>\n",
       "      <td>...</td>\n",
       "      <td>...</td>\n",
       "    </tr>\n",
       "    <tr>\n",
       "      <th>71</th>\n",
       "      <td>72</td>\n",
       "      <td>female</td>\n",
       "      <td>freshman</td>\n",
       "      <td>65.00</td>\n",
       "      <td>6.5</td>\n",
       "      <td>40.0</td>\n",
       "      <td>50.0</td>\n",
       "      <td>youngest</td>\n",
       "      <td>7.0</td>\n",
       "      <td>0.95</td>\n",
       "      <td>8.0</td>\n",
       "      <td>Nursing</td>\n",
       "      <td>2.0</td>\n",
       "      <td>30</td>\n",
       "      <td>4.0</td>\n",
       "      <td>8.0</td>\n",
       "      <td>iPhone</td>\n",
       "      <td>8.0</td>\n",
       "      <td>60.0</td>\n",
       "      <td>no impact</td>\n",
       "      <td>Independent</td>\n",
       "      <td>Dog person</td>\n",
       "      <td>Batman</td>\n",
       "    </tr>\n",
       "    <tr>\n",
       "      <th>72</th>\n",
       "      <td>73</td>\n",
       "      <td>female</td>\n",
       "      <td>freshman</td>\n",
       "      <td>62.00</td>\n",
       "      <td>7.0</td>\n",
       "      <td>60.0</td>\n",
       "      <td>8.0</td>\n",
       "      <td>only child</td>\n",
       "      <td>3.0</td>\n",
       "      <td>0.80</td>\n",
       "      <td>8.0</td>\n",
       "      <td>Undergraduate Studies</td>\n",
       "      <td>1000.0</td>\n",
       "      <td>0</td>\n",
       "      <td>3.0</td>\n",
       "      <td>6.0</td>\n",
       "      <td>iPhone</td>\n",
       "      <td>5.0</td>\n",
       "      <td>100.0</td>\n",
       "      <td>no impact</td>\n",
       "      <td>Republican</td>\n",
       "      <td>Both</td>\n",
       "      <td>Captain America</td>\n",
       "    </tr>\n",
       "    <tr>\n",
       "      <th>73</th>\n",
       "      <td>74</td>\n",
       "      <td>female</td>\n",
       "      <td>freshman</td>\n",
       "      <td>65.00</td>\n",
       "      <td>6.0</td>\n",
       "      <td>2.5</td>\n",
       "      <td>30.0</td>\n",
       "      <td>youngest</td>\n",
       "      <td>4.0</td>\n",
       "      <td>0.65</td>\n",
       "      <td>NaN</td>\n",
       "      <td>Natural Sciences</td>\n",
       "      <td>275.0</td>\n",
       "      <td>360</td>\n",
       "      <td>6.0</td>\n",
       "      <td>8.0</td>\n",
       "      <td>Android smartphone</td>\n",
       "      <td>5.0</td>\n",
       "      <td>60.0</td>\n",
       "      <td>worse</td>\n",
       "      <td>Independent</td>\n",
       "      <td>Both</td>\n",
       "      <td>Superman</td>\n",
       "    </tr>\n",
       "    <tr>\n",
       "      <th>74</th>\n",
       "      <td>75</td>\n",
       "      <td>female</td>\n",
       "      <td>sophomore</td>\n",
       "      <td>65.00</td>\n",
       "      <td>6.5</td>\n",
       "      <td>20.0</td>\n",
       "      <td>15.0</td>\n",
       "      <td>middle</td>\n",
       "      <td>4.0</td>\n",
       "      <td>0.90</td>\n",
       "      <td>8.0</td>\n",
       "      <td>Undergraduate Studies</td>\n",
       "      <td>250.0</td>\n",
       "      <td>120</td>\n",
       "      <td>6.0</td>\n",
       "      <td>NaN</td>\n",
       "      <td>iPhone</td>\n",
       "      <td>6.5</td>\n",
       "      <td>120.0</td>\n",
       "      <td>better</td>\n",
       "      <td>Democrat</td>\n",
       "      <td>Dog person</td>\n",
       "      <td>Superman</td>\n",
       "    </tr>\n",
       "    <tr>\n",
       "      <th>75</th>\n",
       "      <td>76</td>\n",
       "      <td>female</td>\n",
       "      <td>freshman</td>\n",
       "      <td>65.00</td>\n",
       "      <td>7.5</td>\n",
       "      <td>20.0</td>\n",
       "      <td>6.0</td>\n",
       "      <td>middle</td>\n",
       "      <td>12.0</td>\n",
       "      <td>0.85</td>\n",
       "      <td>7.0</td>\n",
       "      <td>Liberal Arts</td>\n",
       "      <td>350.0</td>\n",
       "      <td>180</td>\n",
       "      <td>9.0</td>\n",
       "      <td>5.0</td>\n",
       "      <td>iPhone</td>\n",
       "      <td>7.0</td>\n",
       "      <td>15.0</td>\n",
       "      <td>better</td>\n",
       "      <td>Republican</td>\n",
       "      <td>Dog person</td>\n",
       "      <td>Batman</td>\n",
       "    </tr>\n",
       "  </tbody>\n",
       "</table>\n",
       "<p>76 rows × 23 columns</p>\n",
       "</div>"
      ],
      "text/plain": [
       "    ID  Gender Classification  Height  Shoe Size  Phone Time  # of Shoes  \\\n",
       "0    1    male         senior   67.75        7.0        12.0        12.0   \n",
       "1    2    male       freshman   71.00        7.5         1.5         5.0   \n",
       "2    3  female       freshman   64.00        6.0        25.0        15.0   \n",
       "3    4  female       freshman   63.00        6.5        30.0        30.0   \n",
       "4    5    male         senior   69.00        6.5        23.0         8.0   \n",
       "..  ..     ...            ...     ...        ...         ...         ...   \n",
       "71  72  female       freshman   65.00        6.5        40.0        50.0   \n",
       "72  73  female       freshman   62.00        7.0        60.0         8.0   \n",
       "73  74  female       freshman   65.00        6.0         2.5        30.0   \n",
       "74  75  female      sophomore   65.00        6.5        20.0        15.0   \n",
       "75  76  female       freshman   65.00        7.5        20.0         6.0   \n",
       "\n",
       "   Birth order  Pets  Happy  Funny                College  Bfast Calories  \\\n",
       "0     youngest   5.0   0.80    7.0       Natural Sciences           500.0   \n",
       "1       middle   4.0   0.75    8.0       Natural Sciences             0.0   \n",
       "2       oldest   8.0   0.90    6.0       Natural Sciences           200.0   \n",
       "3       middle  12.0   0.98    9.0              Education           200.0   \n",
       "4       oldest   4.0   0.75    6.0       Natural Sciences             0.0   \n",
       "..         ...   ...    ...    ...                    ...             ...   \n",
       "71    youngest   7.0   0.95    8.0                Nursing             2.0   \n",
       "72  only child   3.0   0.80    8.0  Undergraduate Studies          1000.0   \n",
       "73    youngest   4.0   0.65    NaN       Natural Sciences           275.0   \n",
       "74      middle   4.0   0.90    8.0  Undergraduate Studies           250.0   \n",
       "75      middle  12.0   0.85    7.0           Liberal Arts           350.0   \n",
       "\n",
       "    Exercise  Stat Pre  Stat Post          Phone Type  Sleep  Social Media  \\\n",
       "0        360       3.0        NaN              iPhone    7.0         180.0   \n",
       "1        200       9.0        NaN  Android smartphone    7.0          20.0   \n",
       "2         30       7.0        5.0  Android smartphone    8.0          60.0   \n",
       "3        180       6.0        7.0              iPhone    6.0          60.0   \n",
       "4        180       4.0        7.0              iPhone    5.5          60.0   \n",
       "..       ...       ...        ...                 ...    ...           ...   \n",
       "71        30       4.0        8.0              iPhone    8.0          60.0   \n",
       "72         0       3.0        6.0              iPhone    5.0         100.0   \n",
       "73       360       6.0        8.0  Android smartphone    5.0          60.0   \n",
       "74       120       6.0        NaN              iPhone    6.5         120.0   \n",
       "75       180       9.0        5.0              iPhone    7.0          15.0   \n",
       "\n",
       "   Impact of SocNetworking    Political      Animal        Superhero  \n",
       "0                    worse     Democrat  Dog person           Batman  \n",
       "1                   better     Democrat  Dog person           Batman  \n",
       "2                   better   Republican  Dog person           Batman  \n",
       "3                   better   Republican        Both         Superman  \n",
       "4                    worse  Independent  Dog person         Superman  \n",
       "..                     ...          ...         ...              ...  \n",
       "71               no impact  Independent  Dog person           Batman  \n",
       "72               no impact   Republican        Both  Captain America  \n",
       "73                   worse  Independent        Both         Superman  \n",
       "74                  better     Democrat  Dog person         Superman  \n",
       "75                  better   Republican  Dog person           Batman  \n",
       "\n",
       "[76 rows x 23 columns]"
      ]
     },
     "execution_count": 2,
     "metadata": {},
     "output_type": "execute_result"
    }
   ],
   "source": [
    "# Load the dataset\n",
    "\n",
    "students_data = pd.read_csv('Students Phone Time.csv')\n",
    "pd.set_option('display.max_columns', 30)\n",
    "students_data"
   ]
  },
  {
   "cell_type": "code",
   "execution_count": 3,
   "id": "97edf390",
   "metadata": {},
   "outputs": [
    {
     "data": {
      "text/plain": [
       "iPhone                43\n",
       "Android smartphone    33\n",
       "Name: Phone Type, dtype: int64"
      ]
     },
     "execution_count": 3,
     "metadata": {},
     "output_type": "execute_result"
    }
   ],
   "source": [
    "students_data['Phone Type'].value_counts()"
   ]
  },
  {
   "cell_type": "code",
   "execution_count": 4,
   "id": "95c982bf",
   "metadata": {},
   "outputs": [
    {
     "data": {
      "text/html": [
       "<div>\n",
       "<style scoped>\n",
       "    .dataframe tbody tr th:only-of-type {\n",
       "        vertical-align: middle;\n",
       "    }\n",
       "\n",
       "    .dataframe tbody tr th {\n",
       "        vertical-align: top;\n",
       "    }\n",
       "\n",
       "    .dataframe thead th {\n",
       "        text-align: right;\n",
       "    }\n",
       "</style>\n",
       "<table border=\"1\" class=\"dataframe\">\n",
       "  <thead>\n",
       "    <tr style=\"text-align: right;\">\n",
       "      <th></th>\n",
       "      <th>Phone Type</th>\n",
       "      <th>Phone Time</th>\n",
       "    </tr>\n",
       "  </thead>\n",
       "  <tbody>\n",
       "    <tr>\n",
       "      <th>0</th>\n",
       "      <td>iPhone</td>\n",
       "      <td>12.0</td>\n",
       "    </tr>\n",
       "    <tr>\n",
       "      <th>1</th>\n",
       "      <td>Android smartphone</td>\n",
       "      <td>1.5</td>\n",
       "    </tr>\n",
       "    <tr>\n",
       "      <th>2</th>\n",
       "      <td>Android smartphone</td>\n",
       "      <td>25.0</td>\n",
       "    </tr>\n",
       "    <tr>\n",
       "      <th>3</th>\n",
       "      <td>iPhone</td>\n",
       "      <td>30.0</td>\n",
       "    </tr>\n",
       "    <tr>\n",
       "      <th>4</th>\n",
       "      <td>iPhone</td>\n",
       "      <td>23.0</td>\n",
       "    </tr>\n",
       "    <tr>\n",
       "      <th>...</th>\n",
       "      <td>...</td>\n",
       "      <td>...</td>\n",
       "    </tr>\n",
       "    <tr>\n",
       "      <th>71</th>\n",
       "      <td>iPhone</td>\n",
       "      <td>40.0</td>\n",
       "    </tr>\n",
       "    <tr>\n",
       "      <th>72</th>\n",
       "      <td>iPhone</td>\n",
       "      <td>60.0</td>\n",
       "    </tr>\n",
       "    <tr>\n",
       "      <th>73</th>\n",
       "      <td>Android smartphone</td>\n",
       "      <td>2.5</td>\n",
       "    </tr>\n",
       "    <tr>\n",
       "      <th>74</th>\n",
       "      <td>iPhone</td>\n",
       "      <td>20.0</td>\n",
       "    </tr>\n",
       "    <tr>\n",
       "      <th>75</th>\n",
       "      <td>iPhone</td>\n",
       "      <td>20.0</td>\n",
       "    </tr>\n",
       "  </tbody>\n",
       "</table>\n",
       "<p>76 rows × 2 columns</p>\n",
       "</div>"
      ],
      "text/plain": [
       "            Phone Type  Phone Time\n",
       "0               iPhone        12.0\n",
       "1   Android smartphone         1.5\n",
       "2   Android smartphone        25.0\n",
       "3               iPhone        30.0\n",
       "4               iPhone        23.0\n",
       "..                 ...         ...\n",
       "71              iPhone        40.0\n",
       "72              iPhone        60.0\n",
       "73  Android smartphone         2.5\n",
       "74              iPhone        20.0\n",
       "75              iPhone        20.0\n",
       "\n",
       "[76 rows x 2 columns]"
      ]
     },
     "execution_count": 4,
     "metadata": {},
     "output_type": "execute_result"
    }
   ],
   "source": [
    "# Selecting the relevant columns\n",
    "\n",
    "screen_time = students_data[['Phone Type', 'Phone Time']]\n",
    "screen_time"
   ]
  },
  {
   "cell_type": "markdown",
   "id": "ed62fd0f",
   "metadata": {},
   "source": [
    "### Check for independence and normality assumptions for each group separately"
   ]
  },
  {
   "cell_type": "code",
   "execution_count": 5,
   "id": "3e94b927",
   "metadata": {},
   "outputs": [
    {
     "data": {
      "text/plain": [
       "array(['iPhone', 'Android smartphone'], dtype=object)"
      ]
     },
     "execution_count": 5,
     "metadata": {},
     "output_type": "execute_result"
    }
   ],
   "source": [
    "phones = screen_time['Phone Type'].unique()\n",
    "phones"
   ]
  },
  {
   "cell_type": "code",
   "execution_count": 6,
   "id": "e3661468",
   "metadata": {},
   "outputs": [
    {
     "data": {
      "image/png": "[encoded data removed]",
      "text/plain": [
       "<Figure size 720x360 with 2 Axes>"
      ]
     },
     "metadata": {
      "needs_background": "light"
     },
     "output_type": "display_data"
    }
   ],
   "source": [
    "fig = plt.figure(figsize=(10,5))\n",
    "\n",
    "for i, phone in enumerate(phones):\n",
    "    ax = fig.add_subplot(1,2,i+1)\n",
    "    df = screen_time[screen_time['Phone Type'] == phone]\n",
    "    sns.histplot(data=df)\n",
    "    ax.set_title('Distribution of Phone Time for ' + phone + ' users')\n",
    "\n",
    "fig.tight_layout()\n",
    "plt.show()"
   ]
  },
  {
   "cell_type": "code",
   "execution_count": 7,
   "id": "281ee5e6",
   "metadata": {},
   "outputs": [
    {
     "data": {
      "text/plain": [
       "<AxesSubplot:xlabel='Phone Type', ylabel='Phone Time'>"
      ]
     },
     "execution_count": 7,
     "metadata": {},
     "output_type": "execute_result"
    },
    {
     "data": {
      "image/png": "[encoded data removed]",
      "text/plain": [
       "<Figure size 504x504 with 1 Axes>"
      ]
     },
     "metadata": {
      "needs_background": "light"
     },
     "output_type": "display_data"
    }
   ],
   "source": [
    "plt.figure(figsize=(7,7))\n",
    "sns.boxplot(data=screen_time, x='Phone Type', y='Phone Time')"
   ]
  },
  {
   "cell_type": "markdown",
   "id": "ddb1b1f3",
   "metadata": {},
   "source": [
    "Because the two groups come from a simple random sample of a population, the independence condition is satisfied.\n",
    "\n",
    "Since there are no extreme outliers for each group, the normality condition is satisfied."
   ]
  },
  {
   "cell_type": "markdown",
   "id": "72d9244a",
   "metadata": {},
   "source": [
    "### Compute summary statistics for each group"
   ]
  },
  {
   "cell_type": "code",
   "execution_count": 8,
   "id": "fa2d0522",
   "metadata": {},
   "outputs": [],
   "source": [
    "iPhone = screen_time.loc[screen_time['Phone Type'] == 'iPhone', 'Phone Time'].dropna()\n",
    "Android = screen_time.loc[screen_time['Phone Type'] == 'Android smartphone', 'Phone Time'].dropna()"
   ]
  },
  {
   "cell_type": "code",
   "execution_count": 9,
   "id": "999d50d5",
   "metadata": {},
   "outputs": [
    {
     "name": "stdout",
     "output_type": "stream",
     "text": [
      "Summary statistics for iPhone users:\n",
      "\n",
      "Sample size: 43\n",
      "Mean: 20.511627906976745\n",
      "Standard Deviation: 14.133078546147814\n",
      "\n",
      "Summary statistics for Android smartphone users:\n",
      "\n",
      "Sample size: 32\n",
      "Mean: 13.28125\n",
      "Standard Deviation: 11.415140978033827\n"
     ]
    }
   ],
   "source": [
    "print('Summary statistics for iPhone users:\\n')\n",
    "print('Sample size:', len(iPhone))\n",
    "print('Mean:', iPhone.mean())\n",
    "print('Standard Deviation:', statistics.stdev(iPhone))\n",
    "\n",
    "print('\\nSummary statistics for Android smartphone users:')\n",
    "print('\\nSample size:', len(Android))\n",
    "print('Mean:', Android.mean())\n",
    "print('Standard Deviation:', statistics.stdev(Android))"
   ]
  },
  {
   "cell_type": "markdown",
   "id": "3c6adb30",
   "metadata": {},
   "source": [
    "### Perform independent t-test using Scipy"
   ]
  },
  {
   "cell_type": "code",
   "execution_count": 10,
   "id": "f34dab48",
   "metadata": {},
   "outputs": [
    {
     "data": {
      "text/plain": [
       "Ttest_indResult(statistic=2.3734928820070422, pvalue=0.020254077665073523)"
      ]
     },
     "execution_count": 10,
     "metadata": {},
     "output_type": "execute_result"
    }
   ],
   "source": [
    "stats.ttest_ind(a=iPhone, b=Android)"
   ]
  },
  {
   "cell_type": "markdown",
   "id": "517bc6e9",
   "metadata": {},
   "source": [
    "### Perform independent t-test using Statsmodels"
   ]
  },
  {
   "cell_type": "code",
   "execution_count": 11,
   "id": "d30b4a48",
   "metadata": {},
   "outputs": [
    {
     "data": {
      "text/plain": [
       "(2.3734928820070422, 0.020254077665073523, 73.0)"
      ]
     },
     "execution_count": 11,
     "metadata": {},
     "output_type": "execute_result"
    }
   ],
   "source": [
    "ttest_ind(x1=iPhone, x2=Android)"
   ]
  },
  {
   "cell_type": "markdown",
   "id": "ecbc10e9",
   "metadata": {},
   "source": [
    "### Perform independent t-test using Pingouin"
   ]
  },
  {
   "cell_type": "code",
   "execution_count": 12,
   "id": "991e111a",
   "metadata": {},
   "outputs": [
    {
     "data": {
      "text/html": [
       "<div>\n",
       "<style scoped>\n",
       "    .dataframe tbody tr th:only-of-type {\n",
       "        vertical-align: middle;\n",
       "    }\n",
       "\n",
       "    .dataframe tbody tr th {\n",
       "        vertical-align: top;\n",
       "    }\n",
       "\n",
       "    .dataframe thead th {\n",
       "        text-align: right;\n",
       "    }\n",
       "</style>\n",
       "<table border=\"1\" class=\"dataframe\">\n",
       "  <thead>\n",
       "    <tr style=\"text-align: right;\">\n",
       "      <th></th>\n",
       "      <th>T</th>\n",
       "      <th>dof</th>\n",
       "      <th>alternative</th>\n",
       "      <th>p-val</th>\n",
       "      <th>CI95%</th>\n",
       "      <th>cohen-d</th>\n",
       "      <th>BF10</th>\n",
       "      <th>power</th>\n",
       "    </tr>\n",
       "  </thead>\n",
       "  <tbody>\n",
       "    <tr>\n",
       "      <th>T-test</th>\n",
       "      <td>2.373493</td>\n",
       "      <td>73</td>\n",
       "      <td>two-sided</td>\n",
       "      <td>0.020254</td>\n",
       "      <td>[1.16, 13.3]</td>\n",
       "      <td>0.554127</td>\n",
       "      <td>2.601</td>\n",
       "      <td>0.648857</td>\n",
       "    </tr>\n",
       "  </tbody>\n",
       "</table>\n",
       "</div>"
      ],
      "text/plain": [
       "               T  dof alternative     p-val         CI95%   cohen-d   BF10  \\\n",
       "T-test  2.373493   73   two-sided  0.020254  [1.16, 13.3]  0.554127  2.601   \n",
       "\n",
       "           power  \n",
       "T-test  0.648857  "
      ]
     },
     "execution_count": 12,
     "metadata": {},
     "output_type": "execute_result"
    }
   ],
   "source": [
    "pg.ttest(x=iPhone, y=Android, paired=False, alternative='two-sided', correction=False)"
   ]
  },
  {
   "cell_type": "markdown",
   "id": "e8d10e87",
   "metadata": {},
   "source": [
    "### Interpret the results in the context of data"
   ]
  },
  {
   "cell_type": "markdown",
   "id": "c56cb323",
   "metadata": {},
   "source": [
    "Because the p-value of 0.02 is less than 0.05, the data provides strong evidence to reject the null hypothesis. There is a significant difference in the average phone screen time between iPhone and Android users. Since the average screen time of iPhone users is higher than Android users, we can conclude that iPhone users spend more time on screen, on average, than Android users.\n",
    "\n",
    "We are 95% confident that iPhone users spend more time on screen than Android users by 1.16 to 13.3 hours per week."
   ]
  },
  {
   "cell_type": "code",
   "execution_count": null,
   "id": "38d011bb",
   "metadata": {},
   "outputs": [],
   "source": []
  }
 ],
 "metadata": {
  "kernelspec": {
   "display_name": "Python 3 (ipykernel)",
   "language": "python",
   "name": "python3"
  },
  "language_info": {
   "codemirror_mode": {
    "name": "ipython",
    "version": 3
   },
   "file_extension": ".py",
   "mimetype": "text/x-python",
   "name": "python",
   "nbconvert_exporter": "python",
   "pygments_lexer": "ipython3",
   "version": "3.9.12"
  }
 },
 "nbformat": 4,
 "nbformat_minor": 5
}
