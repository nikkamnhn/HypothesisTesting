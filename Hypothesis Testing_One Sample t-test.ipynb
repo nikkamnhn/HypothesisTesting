{
 "cells": [
  {
   "cell_type": "markdown",
   "id": "a0ccbd06",
   "metadata": {},
   "source": [
    "### Problem: Experts say adults should limit screen time outside of work to two hours per day. Test if the mean amount of time students spend on the phone is 14 hours per week."
   ]
  },
  {
   "cell_type": "markdown",
   "id": "e15a2d23",
   "metadata": {},
   "source": [
    "Ho: Students spend an average of 14 hours per week on phone.\n",
    "\n",
    "Ha: The average phone screen time of students is significantly different from the recommended weekly amount of 14 hours."
   ]
  },
  {
   "cell_type": "code",
   "execution_count": 2,
   "id": "0b12b1e1",
   "metadata": {},
   "outputs": [],
   "source": [
    "# Importing necessary libraries\n",
    "\n",
    "import pandas as pd\n",
    "import numpy as np\n",
    "import matplotlib.pyplot as plt\n",
    "import seaborn as sns\n",
    "\n",
    "import statistics\n",
    "import scipy.stats as stats\n",
    "import pingouin as pg"
   ]
  },
  {
   "cell_type": "code",
   "execution_count": 3,
   "id": "31707812",
   "metadata": {},
   "outputs": [
    {
     "data": {
      "text/html": [
       "<div>\n",
       "<style scoped>\n",
       "    .dataframe tbody tr th:only-of-type {\n",
       "        vertical-align: middle;\n",
       "    }\n",
       "\n",
       "    .dataframe tbody tr th {\n",
       "        vertical-align: top;\n",
       "    }\n",
       "\n",
       "    .dataframe thead th {\n",
       "        text-align: right;\n",
       "    }\n",
       "</style>\n",
       "<table border=\"1\" class=\"dataframe\">\n",
       "  <thead>\n",
       "    <tr style=\"text-align: right;\">\n",
       "      <th></th>\n",
       "      <th>ID</th>\n",
       "      <th>Gender</th>\n",
       "      <th>Classification</th>\n",
       "      <th>Height</th>\n",
       "      <th>Shoe Size</th>\n",
       "      <th>Phone Time</th>\n",
       "      <th># of Shoes</th>\n",
       "      <th>Birth order</th>\n",
       "      <th>Pets</th>\n",
       "      <th>Happy</th>\n",
       "      <th>Funny</th>\n",
       "      <th>College</th>\n",
       "      <th>Bfast Calories</th>\n",
       "      <th>Exercise</th>\n",
       "      <th>Stat Pre</th>\n",
       "      <th>Stat Post</th>\n",
       "      <th>Phone Type</th>\n",
       "      <th>Sleep</th>\n",
       "      <th>Social Media</th>\n",
       "      <th>Impact of SocNetworking</th>\n",
       "      <th>Political</th>\n",
       "      <th>Animal</th>\n",
       "      <th>Superhero</th>\n",
       "    </tr>\n",
       "  </thead>\n",
       "  <tbody>\n",
       "    <tr>\n",
       "      <th>0</th>\n",
       "      <td>1</td>\n",
       "      <td>male</td>\n",
       "      <td>senior</td>\n",
       "      <td>67.75</td>\n",
       "      <td>7.0</td>\n",
       "      <td>12.0</td>\n",
       "      <td>12.0</td>\n",
       "      <td>youngest</td>\n",
       "      <td>5.0</td>\n",
       "      <td>0.80</td>\n",
       "      <td>7.0</td>\n",
       "      <td>Natural Sciences</td>\n",
       "      <td>500.0</td>\n",
       "      <td>360</td>\n",
       "      <td>3.0</td>\n",
       "      <td>NaN</td>\n",
       "      <td>iPhone</td>\n",
       "      <td>7.0</td>\n",
       "      <td>180.0</td>\n",
       "      <td>worse</td>\n",
       "      <td>Democrat</td>\n",
       "      <td>Dog person</td>\n",
       "      <td>Batman</td>\n",
       "    </tr>\n",
       "    <tr>\n",
       "      <th>1</th>\n",
       "      <td>2</td>\n",
       "      <td>male</td>\n",
       "      <td>freshman</td>\n",
       "      <td>71.00</td>\n",
       "      <td>7.5</td>\n",
       "      <td>1.5</td>\n",
       "      <td>5.0</td>\n",
       "      <td>middle</td>\n",
       "      <td>4.0</td>\n",
       "      <td>0.75</td>\n",
       "      <td>8.0</td>\n",
       "      <td>Natural Sciences</td>\n",
       "      <td>0.0</td>\n",
       "      <td>200</td>\n",
       "      <td>9.0</td>\n",
       "      <td>NaN</td>\n",
       "      <td>Android smartphone</td>\n",
       "      <td>7.0</td>\n",
       "      <td>20.0</td>\n",
       "      <td>better</td>\n",
       "      <td>Democrat</td>\n",
       "      <td>Dog person</td>\n",
       "      <td>Batman</td>\n",
       "    </tr>\n",
       "    <tr>\n",
       "      <th>2</th>\n",
       "      <td>3</td>\n",
       "      <td>female</td>\n",
       "      <td>freshman</td>\n",
       "      <td>64.00</td>\n",
       "      <td>6.0</td>\n",
       "      <td>25.0</td>\n",
       "      <td>15.0</td>\n",
       "      <td>oldest</td>\n",
       "      <td>8.0</td>\n",
       "      <td>0.90</td>\n",
       "      <td>6.0</td>\n",
       "      <td>Natural Sciences</td>\n",
       "      <td>200.0</td>\n",
       "      <td>30</td>\n",
       "      <td>7.0</td>\n",
       "      <td>5.0</td>\n",
       "      <td>Android smartphone</td>\n",
       "      <td>8.0</td>\n",
       "      <td>60.0</td>\n",
       "      <td>better</td>\n",
       "      <td>Republican</td>\n",
       "      <td>Dog person</td>\n",
       "      <td>Batman</td>\n",
       "    </tr>\n",
       "    <tr>\n",
       "      <th>3</th>\n",
       "      <td>4</td>\n",
       "      <td>female</td>\n",
       "      <td>freshman</td>\n",
       "      <td>63.00</td>\n",
       "      <td>6.5</td>\n",
       "      <td>30.0</td>\n",
       "      <td>30.0</td>\n",
       "      <td>middle</td>\n",
       "      <td>12.0</td>\n",
       "      <td>0.98</td>\n",
       "      <td>9.0</td>\n",
       "      <td>Education</td>\n",
       "      <td>200.0</td>\n",
       "      <td>180</td>\n",
       "      <td>6.0</td>\n",
       "      <td>7.0</td>\n",
       "      <td>iPhone</td>\n",
       "      <td>6.0</td>\n",
       "      <td>60.0</td>\n",
       "      <td>better</td>\n",
       "      <td>Republican</td>\n",
       "      <td>Both</td>\n",
       "      <td>Superman</td>\n",
       "    </tr>\n",
       "    <tr>\n",
       "      <th>4</th>\n",
       "      <td>5</td>\n",
       "      <td>male</td>\n",
       "      <td>senior</td>\n",
       "      <td>69.00</td>\n",
       "      <td>6.5</td>\n",
       "      <td>23.0</td>\n",
       "      <td>8.0</td>\n",
       "      <td>oldest</td>\n",
       "      <td>4.0</td>\n",
       "      <td>0.75</td>\n",
       "      <td>6.0</td>\n",
       "      <td>Natural Sciences</td>\n",
       "      <td>0.0</td>\n",
       "      <td>180</td>\n",
       "      <td>4.0</td>\n",
       "      <td>7.0</td>\n",
       "      <td>iPhone</td>\n",
       "      <td>5.5</td>\n",
       "      <td>60.0</td>\n",
       "      <td>worse</td>\n",
       "      <td>Independent</td>\n",
       "      <td>Dog person</td>\n",
       "      <td>Superman</td>\n",
       "    </tr>\n",
       "    <tr>\n",
       "      <th>...</th>\n",
       "      <td>...</td>\n",
       "      <td>...</td>\n",
       "      <td>...</td>\n",
       "      <td>...</td>\n",
       "      <td>...</td>\n",
       "      <td>...</td>\n",
       "      <td>...</td>\n",
       "      <td>...</td>\n",
       "      <td>...</td>\n",
       "      <td>...</td>\n",
       "      <td>...</td>\n",
       "      <td>...</td>\n",
       "      <td>...</td>\n",
       "      <td>...</td>\n",
       "      <td>...</td>\n",
       "      <td>...</td>\n",
       "      <td>...</td>\n",
       "      <td>...</td>\n",
       "      <td>...</td>\n",
       "      <td>...</td>\n",
       "      <td>...</td>\n",
       "      <td>...</td>\n",
       "      <td>...</td>\n",
       "    </tr>\n",
       "    <tr>\n",
       "      <th>71</th>\n",
       "      <td>72</td>\n",
       "      <td>female</td>\n",
       "      <td>freshman</td>\n",
       "      <td>65.00</td>\n",
       "      <td>6.5</td>\n",
       "      <td>40.0</td>\n",
       "      <td>50.0</td>\n",
       "      <td>youngest</td>\n",
       "      <td>7.0</td>\n",
       "      <td>0.95</td>\n",
       "      <td>8.0</td>\n",
       "      <td>Nursing</td>\n",
       "      <td>2.0</td>\n",
       "      <td>30</td>\n",
       "      <td>4.0</td>\n",
       "      <td>8.0</td>\n",
       "      <td>iPhone</td>\n",
       "      <td>8.0</td>\n",
       "      <td>60.0</td>\n",
       "      <td>no impact</td>\n",
       "      <td>Independent</td>\n",
       "      <td>Dog person</td>\n",
       "      <td>Batman</td>\n",
       "    </tr>\n",
       "    <tr>\n",
       "      <th>72</th>\n",
       "      <td>73</td>\n",
       "      <td>female</td>\n",
       "      <td>freshman</td>\n",
       "      <td>62.00</td>\n",
       "      <td>7.0</td>\n",
       "      <td>60.0</td>\n",
       "      <td>8.0</td>\n",
       "      <td>only child</td>\n",
       "      <td>3.0</td>\n",
       "      <td>0.80</td>\n",
       "      <td>8.0</td>\n",
       "      <td>Undergraduate Studies</td>\n",
       "      <td>1000.0</td>\n",
       "      <td>0</td>\n",
       "      <td>3.0</td>\n",
       "      <td>6.0</td>\n",
       "      <td>iPhone</td>\n",
       "      <td>5.0</td>\n",
       "      <td>100.0</td>\n",
       "      <td>no impact</td>\n",
       "      <td>Republican</td>\n",
       "      <td>Both</td>\n",
       "      <td>Captain America</td>\n",
       "    </tr>\n",
       "    <tr>\n",
       "      <th>73</th>\n",
       "      <td>74</td>\n",
       "      <td>female</td>\n",
       "      <td>freshman</td>\n",
       "      <td>65.00</td>\n",
       "      <td>6.0</td>\n",
       "      <td>2.5</td>\n",
       "      <td>30.0</td>\n",
       "      <td>youngest</td>\n",
       "      <td>4.0</td>\n",
       "      <td>0.65</td>\n",
       "      <td>NaN</td>\n",
       "      <td>Natural Sciences</td>\n",
       "      <td>275.0</td>\n",
       "      <td>360</td>\n",
       "      <td>6.0</td>\n",
       "      <td>8.0</td>\n",
       "      <td>Android smartphone</td>\n",
       "      <td>5.0</td>\n",
       "      <td>60.0</td>\n",
       "      <td>worse</td>\n",
       "      <td>Independent</td>\n",
       "      <td>Both</td>\n",
       "      <td>Superman</td>\n",
       "    </tr>\n",
       "    <tr>\n",
       "      <th>74</th>\n",
       "      <td>75</td>\n",
       "      <td>female</td>\n",
       "      <td>sophomore</td>\n",
       "      <td>65.00</td>\n",
       "      <td>6.5</td>\n",
       "      <td>20.0</td>\n",
       "      <td>15.0</td>\n",
       "      <td>middle</td>\n",
       "      <td>4.0</td>\n",
       "      <td>0.90</td>\n",
       "      <td>8.0</td>\n",
       "      <td>Undergraduate Studies</td>\n",
       "      <td>250.0</td>\n",
       "      <td>120</td>\n",
       "      <td>6.0</td>\n",
       "      <td>NaN</td>\n",
       "      <td>iPhone</td>\n",
       "      <td>6.5</td>\n",
       "      <td>120.0</td>\n",
       "      <td>better</td>\n",
       "      <td>Democrat</td>\n",
       "      <td>Dog person</td>\n",
       "      <td>Superman</td>\n",
       "    </tr>\n",
       "    <tr>\n",
       "      <th>75</th>\n",
       "      <td>76</td>\n",
       "      <td>female</td>\n",
       "      <td>freshman</td>\n",
       "      <td>65.00</td>\n",
       "      <td>7.5</td>\n",
       "      <td>20.0</td>\n",
       "      <td>6.0</td>\n",
       "      <td>middle</td>\n",
       "      <td>12.0</td>\n",
       "      <td>0.85</td>\n",
       "      <td>7.0</td>\n",
       "      <td>Liberal Arts</td>\n",
       "      <td>350.0</td>\n",
       "      <td>180</td>\n",
       "      <td>9.0</td>\n",
       "      <td>5.0</td>\n",
       "      <td>iPhone</td>\n",
       "      <td>7.0</td>\n",
       "      <td>15.0</td>\n",
       "      <td>better</td>\n",
       "      <td>Republican</td>\n",
       "      <td>Dog person</td>\n",
       "      <td>Batman</td>\n",
       "    </tr>\n",
       "  </tbody>\n",
       "</table>\n",
       "<p>76 rows × 23 columns</p>\n",
       "</div>"
      ],
      "text/plain": [
       "    ID  Gender Classification  Height  Shoe Size  Phone Time  # of Shoes  \\\n",
       "0    1    male         senior   67.75        7.0        12.0        12.0   \n",
       "1    2    male       freshman   71.00        7.5         1.5         5.0   \n",
       "2    3  female       freshman   64.00        6.0        25.0        15.0   \n",
       "3    4  female       freshman   63.00        6.5        30.0        30.0   \n",
       "4    5    male         senior   69.00        6.5        23.0         8.0   \n",
       "..  ..     ...            ...     ...        ...         ...         ...   \n",
       "71  72  female       freshman   65.00        6.5        40.0        50.0   \n",
       "72  73  female       freshman   62.00        7.0        60.0         8.0   \n",
       "73  74  female       freshman   65.00        6.0         2.5        30.0   \n",
       "74  75  female      sophomore   65.00        6.5        20.0        15.0   \n",
       "75  76  female       freshman   65.00        7.5        20.0         6.0   \n",
       "\n",
       "   Birth order  Pets  Happy  Funny                College  Bfast Calories  \\\n",
       "0     youngest   5.0   0.80    7.0       Natural Sciences           500.0   \n",
       "1       middle   4.0   0.75    8.0       Natural Sciences             0.0   \n",
       "2       oldest   8.0   0.90    6.0       Natural Sciences           200.0   \n",
       "3       middle  12.0   0.98    9.0              Education           200.0   \n",
       "4       oldest   4.0   0.75    6.0       Natural Sciences             0.0   \n",
       "..         ...   ...    ...    ...                    ...             ...   \n",
       "71    youngest   7.0   0.95    8.0                Nursing             2.0   \n",
       "72  only child   3.0   0.80    8.0  Undergraduate Studies          1000.0   \n",
       "73    youngest   4.0   0.65    NaN       Natural Sciences           275.0   \n",
       "74      middle   4.0   0.90    8.0  Undergraduate Studies           250.0   \n",
       "75      middle  12.0   0.85    7.0           Liberal Arts           350.0   \n",
       "\n",
       "    Exercise  Stat Pre  Stat Post          Phone Type  Sleep  Social Media  \\\n",
       "0        360       3.0        NaN              iPhone    7.0         180.0   \n",
       "1        200       9.0        NaN  Android smartphone    7.0          20.0   \n",
       "2         30       7.0        5.0  Android smartphone    8.0          60.0   \n",
       "3        180       6.0        7.0              iPhone    6.0          60.0   \n",
       "4        180       4.0        7.0              iPhone    5.5          60.0   \n",
       "..       ...       ...        ...                 ...    ...           ...   \n",
       "71        30       4.0        8.0              iPhone    8.0          60.0   \n",
       "72         0       3.0        6.0              iPhone    5.0         100.0   \n",
       "73       360       6.0        8.0  Android smartphone    5.0          60.0   \n",
       "74       120       6.0        NaN              iPhone    6.5         120.0   \n",
       "75       180       9.0        5.0              iPhone    7.0          15.0   \n",
       "\n",
       "   Impact of SocNetworking    Political      Animal        Superhero  \n",
       "0                    worse     Democrat  Dog person           Batman  \n",
       "1                   better     Democrat  Dog person           Batman  \n",
       "2                   better   Republican  Dog person           Batman  \n",
       "3                   better   Republican        Both         Superman  \n",
       "4                    worse  Independent  Dog person         Superman  \n",
       "..                     ...          ...         ...              ...  \n",
       "71               no impact  Independent  Dog person           Batman  \n",
       "72               no impact   Republican        Both  Captain America  \n",
       "73                   worse  Independent        Both         Superman  \n",
       "74                  better     Democrat  Dog person         Superman  \n",
       "75                  better   Republican  Dog person           Batman  \n",
       "\n",
       "[76 rows x 23 columns]"
      ]
     },
     "execution_count": 3,
     "metadata": {},
     "output_type": "execute_result"
    }
   ],
   "source": [
    "# Load the data\n",
    "\n",
    "students_data = pd.read_csv('Students Phone Time.csv')\n",
    "pd.set_option('display.max_columns', 30)\n",
    "students_data"
   ]
  },
  {
   "cell_type": "code",
   "execution_count": 4,
   "id": "a93fdf77",
   "metadata": {},
   "outputs": [
    {
     "data": {
      "text/plain": [
       "0     12.0\n",
       "1      1.5\n",
       "2     25.0\n",
       "3     30.0\n",
       "4     23.0\n",
       "      ... \n",
       "71    40.0\n",
       "72    60.0\n",
       "73     2.5\n",
       "74    20.0\n",
       "75    20.0\n",
       "Name: Phone Time, Length: 75, dtype: float64"
      ]
     },
     "execution_count": 4,
     "metadata": {},
     "output_type": "execute_result"
    }
   ],
   "source": [
    "# Drop rows with missing values on Phone Time\n",
    "\n",
    "screen_time = students_data['Phone Time'].dropna()\n",
    "screen_time"
   ]
  },
  {
   "cell_type": "markdown",
   "id": "05038e46",
   "metadata": {},
   "source": [
    "### Check for the assumptions of t-distribution\n",
    "\n",
    "1. Independence - Sample must come from a simple random sample of a population.\n",
    "2. Normality\n",
    "    - If the sample size is less than 30 and there are no clear outliers in the data, then we typically assume that the data come from a nearly normal distribution to satisfy the condition.\n",
    "    - If the sample size is at least 30 and there are no particularly extreme outliers, then we typically assume the sampling distribution of mean is nearly normal, even if the underlying distribution of individual observations is not.\n",
    "    "
   ]
  },
  {
   "cell_type": "code",
   "execution_count": 5,
   "id": "eaa5ea1e",
   "metadata": {},
   "outputs": [
    {
     "data": {
      "text/plain": [
       "<AxesSubplot:xlabel='Phone Time', ylabel='Count'>"
      ]
     },
     "execution_count": 5,
     "metadata": {},
     "output_type": "execute_result"
    },
    {
     "data": {
      "image/png": "[encoded data removed]",
      "text/plain": [
       "<Figure size 432x288 with 1 Axes>"
      ]
     },
     "metadata": {
      "needs_background": "light"
     },
     "output_type": "display_data"
    }
   ],
   "source": [
    "sns.histplot(screen_time)"
   ]
  },
  {
   "cell_type": "code",
   "execution_count": 6,
   "id": "956ea82f",
   "metadata": {},
   "outputs": [
    {
     "data": {
      "text/plain": [
       "<AxesSubplot:>"
      ]
     },
     "execution_count": 6,
     "metadata": {},
     "output_type": "execute_result"
    },
    {
     "data": {
      "image/png": "[encoded data removed]",
      "text/plain": [
       "<Figure size 432x288 with 1 Axes>"
      ]
     },
     "metadata": {
      "needs_background": "light"
     },
     "output_type": "display_data"
    }
   ],
   "source": [
    "sns.boxplot(data=screen_time)"
   ]
  },
  {
   "cell_type": "markdown",
   "id": "f9b7bca0",
   "metadata": {},
   "source": [
    "### Calculate the summary statistics of the sample"
   ]
  },
  {
   "cell_type": "code",
   "execution_count": 7,
   "id": "9c93f324",
   "metadata": {},
   "outputs": [
    {
     "name": "stdout",
     "output_type": "stream",
     "text": [
      "Sample size: 75\n",
      "Sample Mean: 17.426666666666666\n",
      "Sample SD: 13.450533329457492\n"
     ]
    }
   ],
   "source": [
    "sample_mean = screen_time.mean()\n",
    "sample_sd = statistics.stdev(screen_time)\n",
    "\n",
    "print('Sample size:', len(screen_time))\n",
    "print('Sample Mean:', sample_mean)\n",
    "print('Sample SD:', sample_sd)\n"
   ]
  },
  {
   "cell_type": "markdown",
   "id": "0c2a969c",
   "metadata": {},
   "source": [
    "With a sample of 75, we should only be concerned if there are particularly extreme outliers. The histogram of the data doesn’t show any outliers of concern."
   ]
  },
  {
   "cell_type": "markdown",
   "id": "4bd44377",
   "metadata": {},
   "source": [
    "### Perform one sample t-test using scipy library's ttest_1samp() function"
   ]
  },
  {
   "cell_type": "code",
   "execution_count": 8,
   "id": "f0ce72e9",
   "metadata": {},
   "outputs": [
    {
     "data": {
      "text/plain": [
       "Ttest_1sampResult(statistic=2.206291981846915, pvalue=0.030467107847015493)"
      ]
     },
     "execution_count": 8,
     "metadata": {},
     "output_type": "execute_result"
    }
   ],
   "source": [
    "stats.ttest_1samp(a=screen_time, popmean=14)"
   ]
  },
  {
   "cell_type": "markdown",
   "id": "6c9aee6a",
   "metadata": {},
   "source": [
    "### Perform one sample t-test using Pingouin"
   ]
  },
  {
   "cell_type": "code",
   "execution_count": 9,
   "id": "b591855a",
   "metadata": {},
   "outputs": [
    {
     "data": {
      "text/html": [
       "<div>\n",
       "<style scoped>\n",
       "    .dataframe tbody tr th:only-of-type {\n",
       "        vertical-align: middle;\n",
       "    }\n",
       "\n",
       "    .dataframe tbody tr th {\n",
       "        vertical-align: top;\n",
       "    }\n",
       "\n",
       "    .dataframe thead th {\n",
       "        text-align: right;\n",
       "    }\n",
       "</style>\n",
       "<table border=\"1\" class=\"dataframe\">\n",
       "  <thead>\n",
       "    <tr style=\"text-align: right;\">\n",
       "      <th></th>\n",
       "      <th>T</th>\n",
       "      <th>dof</th>\n",
       "      <th>alternative</th>\n",
       "      <th>p-val</th>\n",
       "      <th>CI95%</th>\n",
       "      <th>cohen-d</th>\n",
       "      <th>BF10</th>\n",
       "      <th>power</th>\n",
       "    </tr>\n",
       "  </thead>\n",
       "  <tbody>\n",
       "    <tr>\n",
       "      <th>T-test</th>\n",
       "      <td>2.206292</td>\n",
       "      <td>74</td>\n",
       "      <td>two-sided</td>\n",
       "      <td>0.030467</td>\n",
       "      <td>[14.33, 20.52]</td>\n",
       "      <td>0.254761</td>\n",
       "      <td>1.24</td>\n",
       "      <td>0.586161</td>\n",
       "    </tr>\n",
       "  </tbody>\n",
       "</table>\n",
       "</div>"
      ],
      "text/plain": [
       "               T  dof alternative     p-val           CI95%   cohen-d  BF10  \\\n",
       "T-test  2.206292   74   two-sided  0.030467  [14.33, 20.52]  0.254761  1.24   \n",
       "\n",
       "           power  \n",
       "T-test  0.586161  "
      ]
     },
     "execution_count": 9,
     "metadata": {},
     "output_type": "execute_result"
    }
   ],
   "source": [
    "pg.ttest(x=screen_time, y=14, paired=False, alternative='two-sided')"
   ]
  },
  {
   "cell_type": "markdown",
   "id": "5e4015fd",
   "metadata": {},
   "source": [
    "### Interpret the results in the context of data"
   ]
  },
  {
   "cell_type": "markdown",
   "id": "a55d7263",
   "metadata": {},
   "source": [
    "Since the p-value of 0.03 is smaller than 0.05, the data provides strong evidence to reject the null hypothesis. The average phone screen time of students is significantly different from 14 hours. Since the sample mean is higher than 14, we can conclude that the on average, students spend more time on screen than the recommended weekly screen time of 14 hours per week.\n",
    "\n",
    "We are 95% confident that students spend between 14.33 and 20.52 hours per week using their phones."
   ]
  },
  {
   "cell_type": "code",
   "execution_count": null,
   "id": "3a95460a",
   "metadata": {},
   "outputs": [],
   "source": []
  }
 ],
 "metadata": {
  "kernelspec": {
   "display_name": "Python 3 (ipykernel)",
   "language": "python",
   "name": "python3"
  },
  "language_info": {
   "codemirror_mode": {
    "name": "ipython",
    "version": 3
   },
   "file_extension": ".py",
   "mimetype": "text/x-python",
   "name": "python",
   "nbconvert_exporter": "python",
   "pygments_lexer": "ipython3",
   "version": "3.9.12"
  }
 },
 "nbformat": 4,
 "nbformat_minor": 5
}
