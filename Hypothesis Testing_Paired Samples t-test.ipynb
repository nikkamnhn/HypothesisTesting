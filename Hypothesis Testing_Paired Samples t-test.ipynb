{
 "cells": [
  {
   "cell_type": "markdown",
   "id": "0691a6ba",
   "metadata": {},
   "source": [
    "### Problem: Does intervention increase HIV knowledge?\n",
    "\n",
    "Early in the HIV epidemic, there was poor knowledge of HIV transmission risks among health care staff. A short training was developed to improve knowledge and attitudes around HIV disease. Was the training effective in improving knowledge?"
   ]
  },
  {
   "cell_type": "markdown",
   "id": "61695c33",
   "metadata": {},
   "source": [
    "Ho: There is no real difference in the average HIV knowledge scores of health care staff before and after the intervention. \n",
    "\n",
    "Ha: There is a real difference in the average HIV knowledge scores of health care staff before and after the intervention."
   ]
  },
  {
   "cell_type": "code",
   "execution_count": 1,
   "id": "40f772d8",
   "metadata": {},
   "outputs": [],
   "source": [
    "# Import the necessary libraries\n",
    "\n",
    "import pandas as pd\n",
    "import numpy as np\n",
    "import matplotlib.pyplot as plt\n",
    "import seaborn as sns\n",
    "import statistics\n",
    "import scipy.stats as stats\n",
    "import pingouin as pg"
   ]
  },
  {
   "cell_type": "code",
   "execution_count": 3,
   "id": "4ba4e1e6",
   "metadata": {},
   "outputs": [
    {
     "data": {
      "text/html": [
       "<div>\n",
       "<style scoped>\n",
       "    .dataframe tbody tr th:only-of-type {\n",
       "        vertical-align: middle;\n",
       "    }\n",
       "\n",
       "    .dataframe tbody tr th {\n",
       "        vertical-align: top;\n",
       "    }\n",
       "\n",
       "    .dataframe thead th {\n",
       "        text-align: right;\n",
       "    }\n",
       "</style>\n",
       "<table border=\"1\" class=\"dataframe\">\n",
       "  <thead>\n",
       "    <tr style=\"text-align: right;\">\n",
       "      <th></th>\n",
       "      <th>Kscore_before</th>\n",
       "      <th>Kscore_after</th>\n",
       "      <th>difference</th>\n",
       "    </tr>\n",
       "    <tr>\n",
       "      <th>Subject</th>\n",
       "      <th></th>\n",
       "      <th></th>\n",
       "      <th></th>\n",
       "    </tr>\n",
       "  </thead>\n",
       "  <tbody>\n",
       "    <tr>\n",
       "      <th>1</th>\n",
       "      <td>17</td>\n",
       "      <td>22</td>\n",
       "      <td>5</td>\n",
       "    </tr>\n",
       "    <tr>\n",
       "      <th>2</th>\n",
       "      <td>17</td>\n",
       "      <td>21</td>\n",
       "      <td>4</td>\n",
       "    </tr>\n",
       "    <tr>\n",
       "      <th>3</th>\n",
       "      <td>15</td>\n",
       "      <td>21</td>\n",
       "      <td>6</td>\n",
       "    </tr>\n",
       "    <tr>\n",
       "      <th>4</th>\n",
       "      <td>19</td>\n",
       "      <td>26</td>\n",
       "      <td>7</td>\n",
       "    </tr>\n",
       "    <tr>\n",
       "      <th>5</th>\n",
       "      <td>18</td>\n",
       "      <td>20</td>\n",
       "      <td>2</td>\n",
       "    </tr>\n",
       "    <tr>\n",
       "      <th>6</th>\n",
       "      <td>14</td>\n",
       "      <td>14</td>\n",
       "      <td>0</td>\n",
       "    </tr>\n",
       "    <tr>\n",
       "      <th>7</th>\n",
       "      <td>27</td>\n",
       "      <td>31</td>\n",
       "      <td>4</td>\n",
       "    </tr>\n",
       "    <tr>\n",
       "      <th>8</th>\n",
       "      <td>20</td>\n",
       "      <td>18</td>\n",
       "      <td>-2</td>\n",
       "    </tr>\n",
       "    <tr>\n",
       "      <th>9</th>\n",
       "      <td>12</td>\n",
       "      <td>22</td>\n",
       "      <td>10</td>\n",
       "    </tr>\n",
       "    <tr>\n",
       "      <th>10</th>\n",
       "      <td>21</td>\n",
       "      <td>20</td>\n",
       "      <td>-1</td>\n",
       "    </tr>\n",
       "    <tr>\n",
       "      <th>11</th>\n",
       "      <td>20</td>\n",
       "      <td>27</td>\n",
       "      <td>7</td>\n",
       "    </tr>\n",
       "    <tr>\n",
       "      <th>12</th>\n",
       "      <td>24</td>\n",
       "      <td>23</td>\n",
       "      <td>-1</td>\n",
       "    </tr>\n",
       "    <tr>\n",
       "      <th>13</th>\n",
       "      <td>17</td>\n",
       "      <td>15</td>\n",
       "      <td>-2</td>\n",
       "    </tr>\n",
       "    <tr>\n",
       "      <th>14</th>\n",
       "      <td>17</td>\n",
       "      <td>24</td>\n",
       "      <td>7</td>\n",
       "    </tr>\n",
       "    <tr>\n",
       "      <th>15</th>\n",
       "      <td>17</td>\n",
       "      <td>24</td>\n",
       "      <td>7</td>\n",
       "    </tr>\n",
       "  </tbody>\n",
       "</table>\n",
       "</div>"
      ],
      "text/plain": [
       "         Kscore_before  Kscore_after  difference\n",
       "Subject                                         \n",
       "1                   17            22           5\n",
       "2                   17            21           4\n",
       "3                   15            21           6\n",
       "4                   19            26           7\n",
       "5                   18            20           2\n",
       "6                   14            14           0\n",
       "7                   27            31           4\n",
       "8                   20            18          -2\n",
       "9                   12            22          10\n",
       "10                  21            20          -1\n",
       "11                  20            27           7\n",
       "12                  24            23          -1\n",
       "13                  17            15          -2\n",
       "14                  17            24           7\n",
       "15                  17            24           7"
      ]
     },
     "execution_count": 3,
     "metadata": {},
     "output_type": "execute_result"
    }
   ],
   "source": [
    "# Load the data\n",
    "\n",
    "hiv_kscores = pd.read_csv('HIV Knowledge Scores.csv', index_col='Subject')\n",
    "hiv_kscores"
   ]
  },
  {
   "cell_type": "markdown",
   "id": "e209886b",
   "metadata": {},
   "source": [
    "### Check for independence and normality conditions\n",
    "\n",
    "1. Independence - If a random sampling method was used (such as simple random sampling) then we can assume that each observation is independent of every other observation.\n",
    "2. Normality - the differences between the pairs should be approximately normally distributed. There are no extreme outliers in the data."
   ]
  },
  {
   "cell_type": "code",
   "execution_count": 4,
   "id": "61d4def6",
   "metadata": {},
   "outputs": [
    {
     "data": {
      "text/plain": [
       "Text(0.5, 1.0, 'Histogram of Paired Differences')"
      ]
     },
     "execution_count": 4,
     "metadata": {},
     "output_type": "execute_result"
    },
    {
     "data": {
      "image/png": "[encoded data removed]",
      "text/plain": [
       "<Figure size 432x432 with 1 Axes>"
      ]
     },
     "metadata": {
      "needs_background": "light"
     },
     "output_type": "display_data"
    }
   ],
   "source": [
    "### Plot a histogram of the difference in HIV knowledge scores for each person sampled.\n",
    "\n",
    "plt.figure(figsize=(6,6))\n",
    "sns.histplot(data=hiv_kscores['difference'], kde=True)\n",
    "plt.title('Histogram of Paired Differences')"
   ]
  },
  {
   "cell_type": "code",
   "execution_count": 6,
   "id": "c29a32ca",
   "metadata": {},
   "outputs": [
    {
     "data": {
      "text/plain": [
       "Text(0.5, 1.0, 'Boxplot of Paired Differences')"
      ]
     },
     "execution_count": 6,
     "metadata": {},
     "output_type": "execute_result"
    },
    {
     "data": {
      "image/png": "[encoded data removed]",
      "text/plain": [
       "<Figure size 432x432 with 1 Axes>"
      ]
     },
     "metadata": {
      "needs_background": "light"
     },
     "output_type": "display_data"
    }
   ],
   "source": [
    "### Plot a boxplot of the difference in HIV knowledge scores for each person sampled.\n",
    "\n",
    "plt.figure(figsize=(6,6))\n",
    "sns.boxplot(y=hiv_kscores['difference'])\n",
    "plt.title('Boxplot of Paired Differences')"
   ]
  },
  {
   "cell_type": "markdown",
   "id": "764a8b95",
   "metadata": {},
   "source": [
    "The observations are based on a simple random sample, so independence is reasonable. There are also no outliers observed, so the normality condition is satisfied. With these conditions satisfied, we can move forward with the t-distribution."
   ]
  },
  {
   "cell_type": "markdown",
   "id": "7b9638a7",
   "metadata": {},
   "source": [
    "### Summary statistics for the knowledge scores before, after and their difference"
   ]
  },
  {
   "cell_type": "code",
   "execution_count": 7,
   "id": "87870b67",
   "metadata": {},
   "outputs": [
    {
     "name": "stdout",
     "output_type": "stream",
     "text": [
      "\n",
      "Summary statistics for Kscore_before:\n",
      "\n",
      "Sample size: 15\n",
      "Mean: 18.333333333333332\n",
      "Standard deviation: 3.773340063934768\n",
      "\n",
      "Summary statistics for Kscore_after:\n",
      "\n",
      "Sample size: 15\n",
      "Mean: 21.866666666666667\n",
      "Standard deviation: 4.389381125701739\n",
      "\n",
      "Summary statistics for difference:\n",
      "\n",
      "Sample size: 15\n",
      "Mean: 3.533333333333333\n",
      "Standard deviation: 3.925496632214045\n"
     ]
    }
   ],
   "source": [
    "for col in hiv_kscores.columns:\n",
    "    print(f'\\nSummary statistics for {col}:\\n')\n",
    "    print('Sample size:', len(hiv_kscores[col]))\n",
    "    print('Mean:', hiv_kscores[col].mean())\n",
    "    print('Standard deviation:', statistics.stdev(hiv_kscores[col]))"
   ]
  },
  {
   "cell_type": "markdown",
   "id": "a032045e",
   "metadata": {},
   "source": [
    "### Perform paired t-test using scipy"
   ]
  },
  {
   "cell_type": "code",
   "execution_count": 8,
   "id": "f26cd739",
   "metadata": {},
   "outputs": [],
   "source": [
    "kscores_before = hiv_kscores['Kscore_before']\n",
    "kscores_after = hiv_kscores['Kscore_after']"
   ]
  },
  {
   "cell_type": "code",
   "execution_count": 9,
   "id": "140dd665",
   "metadata": {},
   "outputs": [
    {
     "data": {
      "text/plain": [
       "Ttest_relResult(statistic=3.4860662073428483, pvalue=0.0036344776518329644)"
      ]
     },
     "execution_count": 9,
     "metadata": {},
     "output_type": "execute_result"
    }
   ],
   "source": [
    "stats.ttest_rel(a=kscores_after, b=kscores_before, alternative='two-sided')"
   ]
  },
  {
   "cell_type": "markdown",
   "id": "9564f565",
   "metadata": {},
   "source": [
    "### Perform paired t-test using Pingouin"
   ]
  },
  {
   "cell_type": "code",
   "execution_count": 10,
   "id": "9918badd",
   "metadata": {},
   "outputs": [
    {
     "data": {
      "text/html": [
       "<div>\n",
       "<style scoped>\n",
       "    .dataframe tbody tr th:only-of-type {\n",
       "        vertical-align: middle;\n",
       "    }\n",
       "\n",
       "    .dataframe tbody tr th {\n",
       "        vertical-align: top;\n",
       "    }\n",
       "\n",
       "    .dataframe thead th {\n",
       "        text-align: right;\n",
       "    }\n",
       "</style>\n",
       "<table border=\"1\" class=\"dataframe\">\n",
       "  <thead>\n",
       "    <tr style=\"text-align: right;\">\n",
       "      <th></th>\n",
       "      <th>T</th>\n",
       "      <th>dof</th>\n",
       "      <th>alternative</th>\n",
       "      <th>p-val</th>\n",
       "      <th>CI95%</th>\n",
       "      <th>cohen-d</th>\n",
       "      <th>BF10</th>\n",
       "      <th>power</th>\n",
       "    </tr>\n",
       "  </thead>\n",
       "  <tbody>\n",
       "    <tr>\n",
       "      <th>T-test</th>\n",
       "      <td>3.486066</td>\n",
       "      <td>14</td>\n",
       "      <td>two-sided</td>\n",
       "      <td>0.003634</td>\n",
       "      <td>[1.36, 5.71]</td>\n",
       "      <td>0.863269</td>\n",
       "      <td>12.927</td>\n",
       "      <td>0.874301</td>\n",
       "    </tr>\n",
       "  </tbody>\n",
       "</table>\n",
       "</div>"
      ],
      "text/plain": [
       "               T  dof alternative     p-val         CI95%   cohen-d    BF10  \\\n",
       "T-test  3.486066   14   two-sided  0.003634  [1.36, 5.71]  0.863269  12.927   \n",
       "\n",
       "           power  \n",
       "T-test  0.874301  "
      ]
     },
     "execution_count": 10,
     "metadata": {},
     "output_type": "execute_result"
    }
   ],
   "source": [
    "pg.ttest(x=kscores_after, y=kscores_before, paired=True, alternative='two-sided', correction=False)"
   ]
  },
  {
   "cell_type": "markdown",
   "id": "90c02079",
   "metadata": {},
   "source": [
    "### Interpret the results in the context of data"
   ]
  },
  {
   "cell_type": "markdown",
   "id": "dff126bf",
   "metadata": {},
   "source": [
    "Because the p-value of 0.003 is smaller than 0.05, the data provides a strong evidence to reject the null hypothesis. There is a real difference in the average HIV knowledge scores before and after the intervention. Because the mean score after the intervention is higher than before the intervention, we can conclude that the intervention is effective in improving the knowledge about HIV among health care staff. \n",
    "\n",
    "We are 95% confident that the intervention increased the average HIV knowledge scores of health care staff by 1.36 to 5.71 points."
   ]
  },
  {
   "cell_type": "code",
   "execution_count": null,
   "id": "2bd63046",
   "metadata": {},
   "outputs": [],
   "source": []
  }
 ],
 "metadata": {
  "kernelspec": {
   "display_name": "Python 3 (ipykernel)",
   "language": "python",
   "name": "python3"
  },
  "language_info": {
   "codemirror_mode": {
    "name": "ipython",
    "version": 3
   },
   "file_extension": ".py",
   "mimetype": "text/x-python",
   "name": "python",
   "nbconvert_exporter": "python",
   "pygments_lexer": "ipython3",
   "version": "3.9.12"
  }
 },
 "nbformat": 4,
 "nbformat_minor": 5
}
